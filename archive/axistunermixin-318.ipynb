{
 "cells": [
  {
   "cell_type": "code",
   "execution_count": 1,
   "metadata": {},
   "outputs": [
    {
     "name": "stderr",
     "output_type": "stream",
     "text": [
      "I Mon-16:56:50 - ############################################################ startup\n",
      "I Mon-16:56:50 - logging started\n",
      "I Mon-16:56:50 - logging level = 10\n",
      "I Mon-16:56:50 - /home/prjemian/.ipython/profile_bluesky/startup/instrument/collection.py\n",
      "I Mon-16:56:50 - /home/prjemian/.ipython/profile_bluesky/startup/instrument/mpl/notebook.py\n"
     ]
    },
    {
     "name": "stdout",
     "output_type": "stream",
     "text": [
      "Activating auto-logging. Current session state plus future input saved.\n",
      "Filename       : /home/prjemian/.ipython/profile_bluesky/startup/.logs/ipython_console.log\n",
      "Mode           : rotate\n",
      "Output logging : True\n",
      "Raw input log  : False\n",
      "Timestamping   : True\n",
      "State          : active\n"
     ]
    },
    {
     "name": "stderr",
     "output_type": "stream",
     "text": [
      "I Mon-16:56:51 - bluesky framework\n",
      "I Mon-16:56:51 - /home/prjemian/.ipython/profile_bluesky/startup/instrument/framework/check_python.py\n",
      "I Mon-16:56:51 - /home/prjemian/.ipython/profile_bluesky/startup/instrument/framework/initialize.py\n",
      "I Mon-16:56:52 - /home/prjemian/.ipython/profile_bluesky/startup/instrument/framework/user_dir.py\n",
      "I Mon-16:56:52 - /home/prjemian/.ipython/profile_bluesky/startup/instrument/framework/metadata.py\n",
      "I Mon-16:56:52 - /home/prjemian/.ipython/profile_bluesky/startup/instrument/framework/callbacks.py\n",
      "I Mon-16:56:52 - writing to SPEC file: /home/prjemian/.ipython/profile_bluesky/startup/20200601-165652.dat\n",
      "I Mon-16:56:52 -    >>>>   Using default SPEC file name   <<<<\n",
      "I Mon-16:56:52 -    file will be created when bluesky ends its next scan\n",
      "I Mon-16:56:52 -    to change SPEC file, use command:   newSpecFile('title')\n",
      "I Mon-16:56:52 - /home/prjemian/.ipython/profile_bluesky/startup/instrument/devices/usaxs_sim.py\n",
      "I Mon-16:56:52 - /home/prjemian/.ipython/profile_bluesky/startup/instrument/devices/usaxs_sim_local.py\n"
     ]
    }
   ],
   "source": [
    "from instrument.collection import *"
   ]
  },
  {
   "cell_type": "code",
   "execution_count": 2,
   "metadata": {},
   "outputs": [
    {
     "name": "stdout",
     "output_type": "stream",
     "text": [
      "======= ================================ ============= =========\n",
      "name    ophyd structure                  EPICS PV      label(s) \n",
      "======= ================================ ============= =========\n",
      "calcs   UserCalcsDevice                  sky:                   \n",
      "m1      UsaxsMotorTunable                sky:m1        motors   \n",
      "noisy   EpicsSignalRO                    sky:userCalc1 detectors\n",
      "shutter SimulatedApsPssShutterWithStatus               shutters \n",
      "======= ================================ ============= =========\n",
      "\n"
     ]
    },
    {
     "data": {
      "text/plain": [
       "<pyRestTable.rest_table.Table at 0x7f86a3ca4190>"
      ]
     },
     "execution_count": 2,
     "metadata": {},
     "output_type": "execute_result"
    }
   ],
   "source": [
    "listobjects()"
   ]
  },
  {
   "cell_type": "code",
   "execution_count": 3,
   "metadata": {},
   "outputs": [
    {
     "name": "stdout",
     "output_type": "stream",
     "text": [
      "m1:  10%|██▋                         | 0.09/0.944 [00:00<00:01,  1.77s/degrees]\n",
      "m1:  20%|█████▍                     | 0.189/0.944 [00:00<00:01,  1.37s/degrees]\n",
      "m1:  31%|███████▋                 | 0.28925/0.944 [00:00<00:00,  1.24s/degrees]\n",
      "m1:  41%|██████████▎              | 0.38925/0.944 [00:00<00:00,  1.18s/degrees]\n",
      "m1:  52%|█████████████▍            | 0.4895/0.944 [00:00<00:00,  1.14s/degrees]\n",
      "m1:  62%|████████████████▏         | 0.5895/0.944 [00:00<00:00,  1.12s/degrees]\n",
      "m1:  73%|██████████████████▎      | 0.68975/0.944 [00:00<00:00,  1.10s/degrees]\n",
      "m1:  84%|████████████████████▉    | 0.78975/0.944 [00:00<00:00,  1.09s/degrees]\n",
      "m1:  94%|███████████████████████▍ | 0.88275/0.944 [00:00<00:00,  1.09s/degrees]\n",
      "m1:  99%|█████████████████████████▋| 0.9345/0.944 [00:01<00:00,  1.13s/degrees]\n",
      "m1: 100%|███████████████████████████| 0.944/0.944 [00:01<00:00,  1.23s/degrees]\n",
      "m1 [In progress. No progress bar available.]                                   \n",
      "                                                                               \n",
      "\u001b[A"
     ]
    }
   ],
   "source": [
    "mov m1 0"
   ]
  },
  {
   "cell_type": "code",
   "execution_count": 4,
   "metadata": {},
   "outputs": [],
   "source": [
    "RE.waiting_hook = None"
   ]
  },
  {
   "cell_type": "code",
   "execution_count": 5,
   "metadata": {},
   "outputs": [
    {
     "name": "stdout",
     "output_type": "stream",
     "text": [
      "\n",
      "\n",
      "Transient Scan ID: 439     Time: 2020-06-01 16:56:55\n",
      "Persistent Unique Scan ID: 'cd43b257-b000-48c5-a035-174fc81d2126'\n",
      "New stream: 'primary'\n",
      "+-----------+------------+------------+------------+\n",
      "|   seq_num |       time |         m1 |      noisy |\n",
      "+-----------+------------+------------+------------+\n",
      "|         1 | 16:56:56.8 |   -1.05000 |    0.71226 |\n",
      "|         2 | 16:56:57.2 |   -0.93325 |    0.92428 |\n",
      "|         3 | 16:56:57.6 |   -0.81675 |    1.20583 |\n",
      "|         4 | 16:56:58.0 |   -0.70000 |    1.61375 |\n",
      "|         5 | 16:56:58.4 |   -0.58325 |    2.36212 |\n",
      "|         6 | 16:56:58.8 |   -0.46675 |    3.82534 |\n",
      "|         7 | 16:56:59.2 |   -0.35000 |    7.05517 |\n",
      "|         8 | 16:56:59.6 |   -0.23325 |   18.03255 |\n",
      "|         9 | 16:57:00.0 |   -0.11675 |   95.04812 |\n",
      "|        10 | 16:57:00.4 |    0.00000 |  864.20074 |\n",
      "|        11 | 16:57:00.8 |    0.11675 |   34.61914 |\n",
      "|        12 | 16:57:01.2 |    0.23325 |   10.50603 |\n",
      "|        13 | 16:57:01.6 |    0.35000 |    5.17356 |\n",
      "|        14 | 16:57:02.0 |    0.46675 |    3.04344 |\n",
      "|        15 | 16:57:02.4 |    0.58325 |    2.00940 |\n",
      "|        16 | 16:57:02.8 |    0.70000 |    1.36916 |\n",
      "|        17 | 16:57:03.2 |    0.81675 |    1.03999 |\n",
      "|        18 | 16:57:03.6 |    0.93325 |    0.81197 |\n",
      "|        19 | 16:57:04.0 |    1.05000 |    0.62663 |\n",
      "New stream: 'PeakStats'\n",
      "+-----------+------------+------------+------------+\n",
      "generator TuneAxis.tune ['cd43b257'] (scan num: 439)\n",
      "PeakStats\n",
      "================ ===========================\n",
      "key              result                     \n",
      "================ ===========================\n",
      "x                m1                         \n",
      "y                noisy                      \n",
      "cen              -0.0023870971254958025     \n",
      "com              -0.01000241857176544       \n",
      "fwhm             0.12630808187669282        \n",
      "min              [1.05       0.62663473]    \n",
      "max              [  0.         864.20074354]\n",
      "crossings        [-0.06554114  0.06076694]  \n",
      "tune_ok          True                       \n",
      "center           -0.0023870971254958025     \n",
      "initial_position 0.0                        \n",
      "final_position   -0.0023870971254958025     \n",
      "================ ===========================\n",
      "\n"
     ]
    },
    {
     "data": {
      "text/plain": [
       "('cd43b257-b000-48c5-a035-174fc81d2126',)"
      ]
     },
     "execution_count": 5,
     "metadata": {},
     "output_type": "execute_result"
    },
    {
     "data": {
      "image/png": "[encoded data removed]",
      "text/plain": [
       "<Figure size 460.8x400 with 1 Axes>"
      ]
     },
     "metadata": {
      "needs_background": "light"
     },
     "output_type": "display_data"
    }
   ],
   "source": [
    "RE(m1.tune(width=2.1, num=19))"
   ]
  },
  {
   "cell_type": "code",
   "execution_count": 6,
   "metadata": {},
   "outputs": [
    {
     "name": "stdout",
     "output_type": "stream",
     "text": [
      "\n",
      "\n",
      "Transient Scan ID: 440     Time: 2020-06-01 16:57:06\n",
      "Persistent Unique Scan ID: '1b7a6773-381f-4e77-9fc0-e14fad31b44b'\n",
      "New stream: 'primary'\n",
      "+-----------+------------+------------+------------+\n",
      "|   seq_num |       time |         m1 |      noisy |\n",
      "+-----------+------------+------------+------------+\n",
      "|         1 | 16:57:07.6 |   -1.05000 |    0.69864 |\n",
      "|         2 | 16:57:08.0 |   -0.87500 |    1.03879 |\n",
      "|         3 | 16:57:08.4 |   -0.70000 |    1.67818 |\n",
      "|         4 | 16:57:08.8 |   -0.52500 |    3.00953 |\n",
      "|         5 | 16:57:09.2 |   -0.35000 |    7.18320 |\n",
      "|         6 | 16:57:09.6 |   -0.17500 |   35.22008 |\n",
      "|         7 | 16:57:10.0 |    0.00000 |  857.98597 |\n",
      "|         8 | 16:57:10.4 |    0.17500 |   17.28908 |\n",
      "|         9 | 16:57:10.8 |    0.35000 |    5.18062 |\n",
      "|        10 | 16:57:11.2 |    0.52500 |    2.40124 |\n",
      "|        11 | 16:57:11.6 |    0.70000 |    1.35795 |\n",
      "|        12 | 16:57:12.0 |    0.87500 |    0.91751 |\n",
      "|        13 | 16:57:12.4 |    1.05000 |    0.64412 |\n",
      "New stream: 'PeakStats'\n",
      "+-----------+------------+------------+------------+\n",
      "generator TuneAxis.multi_pass_tune ['1b7a6773'] (scan num: 440)\n",
      "PeakStats\n",
      "================ ===========================\n",
      "key              result                     \n",
      "================ ===========================\n",
      "x                m1                         \n",
      "y                noisy                      \n",
      "cen              -0.0009723459146959365     \n",
      "com              -0.0048637693705765594     \n",
      "fwhm             0.18040951751262474        \n",
      "min              [1.05       0.64412408]    \n",
      "max              [  0.         857.98596518]\n",
      "crossings        [-0.0911771   0.08923241]  \n",
      "tune_ok          True                       \n",
      "center           -0.0009723459146959365     \n",
      "initial_position 0.0                        \n",
      "final_position   -0.0009723459146959365     \n",
      "================ ===========================\n",
      "\n",
      "\n",
      "\n",
      "Transient Scan ID: 441     Time: 2020-06-01 16:57:13\n",
      "Persistent Unique Scan ID: '81c8b833-ad76-4351-8e7d-e49148539e04'\n",
      "New stream: 'primary'\n",
      "+-----------+------------+------------+------------+\n",
      "|   seq_num |       time |         m1 |      noisy |\n",
      "+-----------+------------+------------+------------+\n",
      "|         1 | 16:57:14.3 |    0.17950 |   16.74209 |\n",
      "|         2 | 16:57:14.5 |    0.14925 |   23.16117 |\n",
      "|         3 | 16:57:14.7 |    0.11925 |   32.75272 |\n",
      "|         4 | 16:57:14.9 |    0.08925 |   51.74150 |\n",
      "|         5 | 16:57:15.1 |    0.05925 |   93.56280 |\n",
      "|         6 | 16:57:15.3 |    0.02900 |  215.48786 |\n",
      "|         7 | 16:57:15.5 |   -0.00100 |  890.88423 |\n",
      "|         8 | 16:57:15.7 |   -0.03100 | 72481.01962 |\n",
      "|         9 | 16:57:15.9 |   -0.06125 |  706.07919 |\n",
      "|        10 | 16:57:16.1 |   -0.09125 |  190.91904 |\n",
      "|        11 | 16:57:16.3 |   -0.12125 |   86.95065 |\n",
      "|        12 | 16:57:16.5 |   -0.15125 |   50.44012 |\n",
      "|        13 | 16:57:16.7 |   -0.18150 |   31.78056 |\n",
      "New stream: 'PeakStats'\n",
      "+-----------+------------+------------+------------+\n",
      "generator TuneAxis.multi_pass_tune ['81c8b833'] (scan num: 441)\n",
      "PeakStats\n",
      "================ =================================\n",
      "key              result                           \n",
      "================ =================================\n",
      "x                m1                               \n",
      "y                noisy                            \n",
      "cen              -0.03104355357815828             \n",
      "com              -0.030791640211019895            \n",
      "fwhm             0.03045341829632406              \n",
      "min              [ 0.1795     16.74209223]        \n",
      "max              [-3.10000000e-02  7.24810196e+04]\n",
      "crossings        [-0.01581684 -0.04627026]        \n",
      "tune_ok          True                             \n",
      "center           -0.03104355357815828             \n",
      "initial_position -0.001                           \n",
      "final_position   -0.03104355357815828             \n",
      "================ =================================\n",
      "\n",
      "\n",
      "\n",
      "Transient Scan ID: 442     Time: 2020-06-01 16:57:17\n",
      "Persistent Unique Scan ID: 'f31e40a1-9780-42f0-87c3-0d2d1f3fe3b7'\n",
      "New stream: 'primary'\n",
      "+-----------+------------+------------+------------+\n",
      "|   seq_num |       time |         m1 |      noisy |\n",
      "+-----------+------------+------------+------------+\n",
      "|         1 | 16:57:17.5 |   -0.06150 |  714.31130 |\n",
      "|         2 | 16:57:17.6 |   -0.05650 | 1008.12934 |\n",
      "|         3 | 16:57:17.7 |   -0.05125 | 1563.83289 |\n",
      "|         4 | 16:57:17.8 |   -0.04625 | 2587.03110 |\n",
      "|         5 | 16:57:17.9 |   -0.04125 | 4928.37020 |\n",
      "|         6 | 16:57:18.0 |   -0.03600 | 14363.82513 |\n",
      "|         7 | 16:57:18.1 |   -0.03100 | 73014.98848 |\n",
      "|         8 | 16:57:18.2 |   -0.02600 | 38502.26789 |\n",
      "|         9 | 16:57:18.3 |   -0.02075 | 8745.67670 |\n",
      "|        10 | 16:57:18.4 |   -0.01575 | 3781.58395 |\n",
      "|        11 | 16:57:18.5 |   -0.01075 | 2030.70338 |\n",
      "|        12 | 16:57:18.6 |   -0.00550 | 1275.04844 |\n",
      "|        13 | 16:57:18.7 |   -0.00050 |  896.62627 |\n",
      "New stream: 'PeakStats'\n",
      "+-----------+------------+------------+------------+\n",
      "generator TuneAxis.multi_pass_tune ['f31e40a1'] (scan num: 442)\n",
      "PeakStats\n",
      "================ =================================\n",
      "key              result                           \n",
      "================ =================================\n",
      "x                m1                               \n",
      "y                noisy                            \n",
      "cen              -0.029896440884508622            \n",
      "com              -0.02970764413946617             \n",
      "fwhm             0.00837073656835587              \n",
      "min              [-6.15000000e-02  7.14311298e+02]\n",
      "max              [-3.10000000e-02  7.30149885e+04]\n",
      "crossings        [-0.03408181 -0.02571107]        \n",
      "tune_ok          True                             \n",
      "center           -0.029896440884508622            \n",
      "initial_position -0.031                           \n",
      "final_position   -0.029896440884508622            \n",
      "================ =================================\n",
      "\n",
      "\n",
      "\n",
      "Transient Scan ID: 443     Time: 2020-06-01 16:57:19\n",
      "Persistent Unique Scan ID: 'e0794bf1-2aeb-4b6a-8ebb-09c0aa88da48'\n",
      "New stream: 'primary'\n",
      "+-----------+------------+------------+------------+\n",
      "|   seq_num |       time |         m1 |      noisy |\n",
      "+-----------+------------+------------+------------+\n",
      "|         1 | 16:57:19.2 |   -0.02175 | 11039.79319 |\n",
      "|         2 | 16:57:19.3 |   -0.02300 | 15450.51791 |\n",
      "|         3 | 16:57:19.4 |   -0.02450 | 23137.69253 |\n",
      "|         4 | 16:57:19.5 |   -0.02575 | 34246.39687 |\n",
      "|         5 | 16:57:19.6 |   -0.02725 | 59112.54974 |\n",
      "|         6 | 16:57:19.7 |   -0.02850 | 84973.62949 |\n",
      "|         7 | 16:57:19.8 |   -0.03000 | 91759.46662 |\n",
      "|         8 | 16:57:19.9 |   -0.03150 | 62613.27798 |\n",
      "|         9 | 16:57:20.0 |   -0.03275 | 38829.62196 |\n",
      "|        10 | 16:57:20.1 |   -0.03425 | 23730.29143 |\n",
      "|        11 | 16:57:20.2 |   -0.03550 | 16851.90910 |\n",
      "|        12 | 16:57:20.3 |   -0.03700 | 11381.03648 |\n",
      "|        13 | 16:57:20.4 |   -0.03825 | 8564.60289 |\n",
      "New stream: 'PeakStats'\n",
      "+-----------+------------+------------+------------+\n",
      "generator TuneAxis.multi_pass_tune ['e0794bf1'] (scan num: 443)\n",
      "PeakStats\n",
      "================ =================================\n",
      "key              result                           \n",
      "================ =================================\n",
      "x                m1                               \n",
      "y                noisy                            \n",
      "cen              -0.029432239832362622            \n",
      "com              -0.029517897548270944            \n",
      "fwhm             0.005444322818752682             \n",
      "min              [-3.82500000e-02  8.56460289e+03]\n",
      "max              [-3.00000000e-02  9.17594666e+04]\n",
      "crossings        [-0.02671008 -0.0321544 ]        \n",
      "tune_ok          True                             \n",
      "center           -0.029432239832362622            \n",
      "initial_position -0.03                            \n",
      "final_position   -0.029432239832362622            \n",
      "================ =================================\n",
      "\n",
      "==== ==== ====================== ==================== ====== =================\n",
      "pass Ok?  center                 width                max.X  max.Y            \n",
      "==== ==== ====================== ==================== ====== =================\n",
      "1    True -0.0009723459146959365 0.18040951751262474  0.0    857.9859651770716\n",
      "2    True -0.03104355357815828   0.03045341829632406  -0.031 72481.01962078686\n",
      "3    True -0.029896440884508622  0.00837073656835587  -0.031 73014.98848254648\n",
      "4    True -0.029432239832362622  0.005444322818752682 -0.03  91759.46661726295\n",
      "==== ==== ====================== ==================== ====== =================\n",
      "\n"
     ]
    },
    {
     "data": {
      "image/png": "[encoded data removed]",
      "text/plain": [
       "<Figure size 460.8x400 with 1 Axes>"
      ]
     },
     "metadata": {
      "needs_background": "light"
     },
     "output_type": "display_data"
    }
   ],
   "source": [
    "%mov m1 0\n",
    "RE(m1.tuner.multi_pass_tune(width=2.1, num=13))\n",
    "print(m1.tuner.multi_pass_tune_summary())"
   ]
  }
 ],
 "metadata": {
  "kernelspec": {
   "display_name": "Python 3",
   "language": "python",
   "name": "python3"
  },
  "language_info": {
   "codemirror_mode": {
    "name": "ipython",
    "version": 3
   },
   "file_extension": ".py",
   "mimetype": "text/x-python",
   "name": "python",
   "nbconvert_exporter": "python",
   "pygments_lexer": "ipython3",
   "version": "3.7.7"
  }
 },
 "nbformat": 4,
 "nbformat_minor": 4
}
