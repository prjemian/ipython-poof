{
 "cells": [
  {
   "cell_type": "code",
   "execution_count": 1,
   "metadata": {},
   "outputs": [
    {
     "output_type": "stream",
     "name": "stderr",
     "text": [
      "I Sat-14:55:56 - ############################################################ startup\n",
      "I Sat-14:55:56 - logging started\n",
      "I Sat-14:55:56 - logging level = 10\n",
      "I Sat-14:55:56 - /home/prjemian/Documents/projects/instrument_poof/instrument/collection.py\n",
      "I Sat-14:55:56 - /home/prjemian/Documents/projects/instrument_poof/instrument/mpl/notebook.py\n",
      "Activating auto-logging. Current session state plus future input saved.\n",
      "Filename       : /home/prjemian/Documents/projects/instrument_poof/instrument/utils/.logs/ipython_console.log\n",
      "Mode           : rotate\n",
      "Output logging : True\n",
      "Raw input log  : False\n",
      "Timestamping   : True\n",
      "State          : active\n",
      "I Sat-14:55:57 - Start soft IOC dockers if PVs not available\n",
      "I Sat-14:55:57 - /home/prjemian/Documents/projects/instrument_poof/instrument/iocs/check_iocs.py\n",
      "I Sat-14:55:57 - EPICS IOCs ready...\n",
      "I Sat-14:55:57 - bluesky framework\n",
      "I Sat-14:55:57 - /home/prjemian/Documents/projects/instrument_poof/instrument/framework/check_python.py\n",
      "I Sat-14:55:57 - /home/prjemian/Documents/projects/instrument_poof/instrument/framework/initialize.py\n",
      "I Sat-14:55:59 - /home/prjemian/Documents/projects/instrument_poof/instrument/framework/user_dir.py\n",
      "I Sat-14:55:59 - /home/prjemian/Documents/projects/instrument_poof/instrument/framework/metadata.py\n",
      "I Sat-14:55:59 - /home/prjemian/Documents/projects/instrument_poof/instrument/framework/callbacks.py\n",
      "I Sat-14:55:59 - writing to SPEC file: /home/prjemian/Documents/projects/instrument_poof/instrument/utils/20201219-145559.dat\n",
      "I Sat-14:55:59 -    >>>>   Using default SPEC file name   <<<<\n",
      "I Sat-14:55:59 -    file will be created when bluesky ends its next scan\n",
      "I Sat-14:55:59 -    to change SPEC file, use command:   newSpecFile('title')\n",
      "I Sat-14:55:59 - /home/prjemian/Documents/projects/instrument_poof/instrument/devices/adsky.py\n",
      "I Sat-14:56:02 - /home/prjemian/Documents/projects/instrument_poof/instrument/devices/calcs.py\n",
      "I Sat-14:56:03 - /home/prjemian/Documents/projects/instrument_poof/instrument/devices/fourc_diffractometer.py\n",
      "I Sat-14:56:03 - /home/prjemian/Documents/projects/instrument_poof/instrument/devices/iocstats.py\n",
      "I Sat-14:56:03 - /home/prjemian/Documents/projects/instrument_poof/instrument/devices/motors.py\n",
      "I Sat-14:56:05 - /home/prjemian/Documents/projects/instrument_poof/instrument/devices/my_registers.py\n",
      "I Sat-14:56:05 - /home/prjemian/Documents/projects/instrument_poof/instrument/devices/scaler.py\n",
      "I Sat-14:56:06 - /home/prjemian/Documents/projects/instrument_poof/instrument/devices/signals.py\n",
      "I Sat-14:56:06 - /home/prjemian/Documents/projects/instrument_poof/instrument/devices/simulators.py\n",
      "I Sat-14:56:06 - /home/prjemian/Documents/projects/instrument_poof/instrument/utils/check_limits.py\n",
      "I Sat-14:56:06 - /home/prjemian/Documents/projects/instrument_poof/instrument/utils/hkl_user.py\n"
     ]
    }
   ],
   "source": [
    "import os, sys\n",
    "sys.path.append(os.path.abspath(os.path.join(\"..\", \"..\")))\n",
    "from instrument.collection import *"
   ]
  },
  {
   "cell_type": "code",
   "execution_count": 2,
   "metadata": {},
   "outputs": [
    {
     "output_type": "stream",
     "name": "stdout",
     "text": [
      "{'apstools': '1.3.9', 'bluesky': '1.6.7', 'databroker': '1.1.0', 'epics': '3.4.3', 'event_model': '1.17.0', 'h5py': '2.10.0', 'matplotlib': '3.3.2', 'numpy': '1.19.2', 'ophyd': '1.6.0', 'pyRestTable': '2020.0.3', 'spec2nexus': '2021.1.8'}\n"
     ]
    }
   ],
   "source": [
    "print(RE.md[\"versions\"])"
   ]
  },
  {
   "cell_type": "code",
   "execution_count": 3,
   "metadata": {},
   "outputs": [
    {
     "output_type": "stream",
     "name": "stdout",
     "text": [
      "===================== ========= =========\n",
      "term                  value     axis_type\n",
      "===================== ========= =========\n",
      "diffractometer        fourc              \n",
      "sample name           main               \n",
      "energy (keV)          2.80000            \n",
      "wavelength (angstrom) 4.42801            \n",
      "calc engine           hkl                \n",
      "mode                  bissector          \n",
      "h                     0.0       pseudo   \n",
      "k                     0.0       pseudo   \n",
      "l                     0.0       pseudo   \n",
      "omega                 0         real     \n",
      "chi                   0         real     \n",
      "phi                   0         real     \n",
      "tth                   0         real     \n",
      "===================== ========= =========\n",
      "\n"
     ]
    }
   ],
   "source": [
    "selectDiffractometer(fourc)\n",
    "setEnergy(2800, \"eV\")\n",
    "wh()"
   ]
  },
  {
   "cell_type": "code",
   "execution_count": 4,
   "metadata": {},
   "outputs": [
    {
     "output_type": "stream",
     "name": "stdout",
     "text": [
      "Sample: PrYBCO (current)\n",
      "\n",
      "======= ===================================================\n",
      "key     value                                              \n",
      "======= ===================================================\n",
      "name    PrYBCO                                             \n",
      "lattice [3.86, 3.86, 11.5, 90.0, 90.0, 90.0]               \n",
      "U       [[1. 0. 0.]                                        \n",
      "         [0. 1. 0.]                                        \n",
      "         [0. 0. 1.]]                                       \n",
      "UB      [[ 1.62776821e+00 -9.96720567e-17 -3.34551425e-17] \n",
      "         [ 0.00000000e+00  1.62776821e+00 -3.34551425e-17] \n",
      "         [ 0.00000000e+00  0.00000000e+00  5.46363940e-01]]\n",
      "======= ===================================================\n",
      "\n"
     ]
    }
   ],
   "source": [
    "newSample('PrYBCO',3.86,3.86,11.5,90,90,90)"
   ]
  },
  {
   "cell_type": "code",
   "execution_count": 5,
   "metadata": {},
   "outputs": [
    {
     "output_type": "stream",
     "name": "stdout",
     "text": [
      "[[ 0.23541898 -1.61053782  0.0065016 ]\n",
      " [ 0.03089621  0.02408783  0.54620568]\n",
      " [-1.61035794 -0.23498313  0.01142993]]\n"
     ]
    }
   ],
   "source": [
    "setEnergy(1746, \"eV\")\n",
    "r1=setor(0,  0, 1, tth=76.25, omega=37.08, chi=89.100, phi=78.9)\n",
    "r2=setor(-1, 0, 1, tth=150.9, omega=3.760, chi=80.656, phi=78.9)\n",
    "# fourcSyncToMotor()\n",
    "calcUB(r1, r2)"
   ]
  },
  {
   "cell_type": "code",
   "execution_count": 6,
   "metadata": {},
   "outputs": [
    {
     "output_type": "execute_result",
     "data": {
      "text/plain": [
       "(4.428007142857142, 2.8000000000000003)"
      ]
     },
     "metadata": {},
     "execution_count": 6
    }
   ],
   "source": [
    "setEnergy(2800)\n",
    "fourc.calc.wavelength, fourc.calc.energy"
   ]
  },
  {
   "cell_type": "code",
   "execution_count": 7,
   "metadata": {},
   "outputs": [
    {
     "output_type": "stream",
     "name": "stdout",
     "text": [
      "========== ======== ======== ======== ======== ========\n",
      "(hkl)      solution omega    chi      phi      tth     \n",
      "========== ======== ======== ======== ======== ========\n",
      "(0, 0, 1)  0        11.10001 88.62089 29.63225 22.20001\n",
      "(-1, 0, 1) 0        37.23058 17.46477 -8.03429 74.46116\n",
      "========== ======== ======== ======== ======== ========\n",
      "\n"
     ]
    }
   ],
   "source": [
    "reflections = ((0,0,1),(-1,0,1))  \n",
    "cahkl_table(reflections) "
   ]
  },
  {
   "cell_type": "code",
   "execution_count": 8,
   "metadata": {},
   "outputs": [
    {
     "output_type": "stream",
     "name": "stdout",
     "text": [
      "Sample: STO (current)\n",
      "\n",
      "======= ===================================================\n",
      "key     value                                              \n",
      "======= ===================================================\n",
      "name    STO                                                \n",
      "lattice [3.905, 3.905, 3.905, 90.0, 90.0, 90.0]            \n",
      "U       [[1. 0. 0.]                                        \n",
      "         [0. 1. 0.]                                        \n",
      "         [0. 0. 1.]]                                       \n",
      "UB      [[ 1.60901032e+00 -9.85234670e-17 -9.85234670e-17] \n",
      "         [ 0.00000000e+00  1.60901032e+00 -9.85234670e-17] \n",
      "         [ 0.00000000e+00  0.00000000e+00  1.60901032e+00]]\n",
      "======= ===================================================\n",
      "\n"
     ]
    }
   ],
   "source": [
    "newSample('STO',3.905,3.905,3.905,90,90,90)"
   ]
  },
  {
   "cell_type": "code",
   "execution_count": 9,
   "metadata": {},
   "outputs": [
    {
     "output_type": "stream",
     "name": "stdout",
     "text": [
      "STO (current): [3.905, 3.905, 3.905, 90.0, 90.0, 90.0]\n",
      "main: [1.54, 1.54, 1.54, 90.0, 90.0, 90.0]\n",
      "PrYBCO: [3.86, 3.86, 11.5, 90.0, 90.0, 90.0]\n"
     ]
    }
   ],
   "source": [
    "listSamples(verbose=False)"
   ]
  },
  {
   "cell_type": "code",
   "execution_count": 10,
   "metadata": {},
   "outputs": [
    {
     "output_type": "stream",
     "name": "stdout",
     "text": [
      "Sample: PrYBCO (current)\n",
      "\n",
      "============ =======================================\n",
      "key          value                                  \n",
      "============ =======================================\n",
      "name         PrYBCO                                 \n",
      "lattice      [3.86, 3.86, 11.5, 90.0, 90.0, 90.0]   \n",
      "reflection 1 (h=0.0, k=0.0, l=1.0)                  \n",
      "reflection 2 (h=-1.0, k=0.0, l=1.0)                 \n",
      "U            [[ 0.14462684 -0.98941471  0.01189976] \n",
      "              [ 0.01898072  0.01479807  0.99971033] \n",
      "              [-0.9893042  -0.14435908  0.02092   ]]\n",
      "UB           [[ 0.23541898 -1.61053782  0.0065016 ] \n",
      "              [ 0.03089621  0.02408783  0.54620568] \n",
      "              [-1.61035794 -0.23498313  0.01142993]]\n",
      "============ =======================================\n",
      "\n"
     ]
    }
   ],
   "source": [
    "changeSample('PrYBCO')"
   ]
  },
  {
   "cell_type": "code",
   "execution_count": 11,
   "metadata": {},
   "outputs": [
    {
     "output_type": "stream",
     "name": "stdout",
     "text": [
      "PrYBCO (current): [3.8, 3.8, 11.5, 90.0, 90.0, 90.0]\n"
     ]
    }
   ],
   "source": [
    "updateSample(3.8,3.8,11.5,90,90,90)"
   ]
  },
  {
   "cell_type": "code",
   "execution_count": 12,
   "metadata": {},
   "outputs": [
    {
     "output_type": "execute_result",
     "data": {
      "text/plain": [
       "PosCalcE4CV(omega=11.100004855757552, chi=88.62089333948501, phi=29.632172350669897, tth=22.200009711515104)"
      ]
     },
     "metadata": {},
     "execution_count": 12
    }
   ],
   "source": [
    "cahkl(0,0,1)"
   ]
  },
  {
   "cell_type": "code",
   "execution_count": 13,
   "metadata": {},
   "outputs": [
    {
     "output_type": "error",
     "ename": "NameError",
     "evalue": "name 'scanhkl_test' is not defined",
     "traceback": [
      "\u001b[0;31m---------------------------------------------------------------------------\u001b[0m",
      "\u001b[0;31mNameError\u001b[0m                                 Traceback (most recent call last)",
      "\u001b[0;32m<ipython-input-13-573a6de99263>\u001b[0m in \u001b[0;36m<module>\u001b[0;34m\u001b[0m\n\u001b[1;32m      1\u001b[0m \u001b[0;31m# to get a preview of a given hkl scan\u001b[0m\u001b[0;34m\u001b[0m\u001b[0;34m\u001b[0m\u001b[0;34m\u001b[0m\u001b[0m\n\u001b[1;32m      2\u001b[0m \u001b[0;31m# (and make sure all reflections are reachable)\u001b[0m\u001b[0;34m\u001b[0m\u001b[0;34m\u001b[0m\u001b[0;34m\u001b[0m\u001b[0m\n\u001b[0;32m----> 3\u001b[0;31m \u001b[0mscanhkl_test\u001b[0m\u001b[0;34m(\u001b[0m\u001b[0;34m(\u001b[0m\u001b[0;36m0\u001b[0m\u001b[0;34m,\u001b[0m\u001b[0;36m0\u001b[0m\u001b[0;34m,\u001b[0m\u001b[0;36m0.9\u001b[0m\u001b[0;34m)\u001b[0m\u001b[0;34m,\u001b[0m\u001b[0;34m(\u001b[0m\u001b[0;36m0\u001b[0m\u001b[0;34m,\u001b[0m\u001b[0;36m0\u001b[0m\u001b[0;34m,\u001b[0m\u001b[0;36m1.1\u001b[0m\u001b[0;34m)\u001b[0m\u001b[0;34m,\u001b[0m\u001b[0;36m10\u001b[0m\u001b[0;34m,\u001b[0m\u001b[0mE\u001b[0m\u001b[0;34m=\u001b[0m\u001b[0;36m2800\u001b[0m\u001b[0;34m)\u001b[0m\u001b[0;34m\u001b[0m\u001b[0;34m\u001b[0m\u001b[0m\n\u001b[0m",
      "\u001b[0;31mNameError\u001b[0m: name 'scanhkl_test' is not defined"
     ]
    }
   ],
   "source": [
    "# to get a preview of a given hkl scan \n",
    "# (and make sure all reflections are reachable)\n",
    "scanhkl_test((0,0,0.9),(0,0,1.1),10,E=2800) "
   ]
  },
  {
   "cell_type": "code",
   "execution_count": null,
   "metadata": {},
   "outputs": [],
   "source": [
    "h=0.995\n",
    "q=1.005\n",
    "scanhkl((h,h,h),(q,q,q),30,1,E=2831.75)"
   ]
  },
  {
   "cell_type": "code",
   "execution_count": null,
   "metadata": {
    "collapsed": true,
    "jupyter": {
     "outputs_hidden": true
    }
   },
   "outputs": [],
   "source": [
    "mydata=mdaFile('mydata',191,204)  # load data"
   ]
  },
  {
   "cell_type": "code",
   "execution_count": null,
   "metadata": {},
   "outputs": [],
   "source": [
    "mydata.updateFiles(mydata.scanNum[-1]) # load more data"
   ]
  },
  {
   "cell_type": "code",
   "execution_count": null,
   "metadata": {},
   "outputs": [],
   "source": [
    "plot_hkl(mydata,216,218,det=34)"
   ]
  },
  {
   "cell_type": "code",
   "execution_count": null,
   "metadata": {},
   "outputs": [],
   "source": [
    "plot_hkl(mydata,229,det=34)"
   ]
  },
  {
   "cell_type": "code",
   "execution_count": null,
   "metadata": {},
   "outputs": [],
   "source": [
    "fit_hkl_gauss(202,34,0.001)  # scan, det, FWHM_guess"
   ]
  },
  {
   "cell_type": "code",
   "execution_count": null,
   "metadata": {},
   "outputs": [],
   "source": [
    "pwd"
   ]
  },
  {
   "cell_type": "code",
   "execution_count": null,
   "metadata": {},
   "outputs": [],
   "source": [
    "Macros_29id"
   ]
  }
 ],
 "metadata": {
  "kernelspec": {
   "display_name": "Python 3.8.2 64-bit (conda)",
   "language": "python",
   "name": "python38264bitcondaf8e76b08f7284c68a6b3de15f965a87a"
  },
  "language_info": {
   "codemirror_mode": {
    "name": "ipython",
    "version": 3
   },
   "file_extension": ".py",
   "mimetype": "text/x-python",
   "name": "python",
   "nbconvert_exporter": "python",
   "pygments_lexer": "ipython3",
   "version": "3.8.2-final"
  }
 },
 "nbformat": 4,
 "nbformat_minor": 4
}